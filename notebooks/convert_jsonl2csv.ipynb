{
 "cells": [
  {
   "cell_type": "code",
   "execution_count": 4,
   "metadata": {},
   "outputs": [
    {
     "data": {
      "text/plain": [
       "'/scratch/09636/zyliu'"
      ]
     },
     "execution_count": 4,
     "metadata": {},
     "output_type": "execute_result"
    }
   ],
   "source": [
    "from utils import io, vars\n",
    "import os\n",
    "import numpy as np\n",
    "from pathlib import Path\n",
    "from scipy.stats import describe\n",
    "import pandas as pd\n",
    "os.environ[\"SCRATCH\"]"
   ]
  },
  {
   "cell_type": "code",
   "execution_count": 31,
   "metadata": {},
   "outputs": [
    {
     "data": {
      "text/plain": [
       "'no_html_mds'"
      ]
     },
     "execution_count": 31,
     "metadata": {},
     "output_type": "execute_result"
    }
   ],
   "source": [
    "data_folder_path = \"sample_dump_package/sample_dump_mds_jsonl/dedup\"\n",
    "# data_fname = \"cat_mds_dedup.jsonl\"\n",
    "# data_fname = \"no_tab_fig_mds_dedup.jsonl\"\n",
    "# data_fname = \"no_biblio_mds_dedup.jsonl\"\n",
    "data_fname = \"no_html_mds_dedup.jsonl\"\n",
    "data_fname_stem = Path(data_fname).stem\n",
    "data_fname_stem_nodedup = data_fname_stem.replace(\"_dedup\", \"\")\n",
    "data_folder = f\"{vars.RAW_DATA_DIR}/{data_folder_path}\"\n",
    "\n",
    "# data_source = f\"{vars.RAW_DATA_DIR}/sample_dump_package/sample_dump_mds_jsonl/dedup/no_html_mds_dedup.jsonl\"\n",
    "data_fpath = f\"{data_folder}/{data_fname}\"\n",
    "jsonl_content = io.load_jsonlines(data_fpath)\n",
    "\n",
    "# texts = [e[\"text\"] for e in jsonl_content]\n",
    "# describe([len(vars.GPT_4_TOKENIZER(t)) for t in texts])\n",
    "\n",
    "# df = pd.DataFrame(jsonl_content)\n",
    "# df.to_csv(f\"{data_folder}/{data_fname_stem}.csv\")\n",
    "data_fname_stem_nodedup"
   ]
  },
  {
   "cell_type": "code",
   "execution_count": 32,
   "metadata": {},
   "outputs": [],
   "source": [
    "n = len(jsonl_content)\n",
    "n_train = 1000\n",
    "n_valid = n - n_train\n",
    "all_ids = np.arange(n)\n",
    "np.random.shuffle(all_ids)"
   ]
  },
  {
   "cell_type": "code",
   "execution_count": 33,
   "metadata": {},
   "outputs": [],
   "source": [
    "train_ids, valid_ids = all_ids[:n_train], all_ids[n_train:]\n",
    "X_train = [jsonl_content[i] for i in train_ids]\n",
    "X_valid = [jsonl_content[i] for i in valid_ids]"
   ]
  },
  {
   "cell_type": "code",
   "execution_count": 34,
   "metadata": {},
   "outputs": [
    {
     "data": {
      "text/plain": [
       "82"
      ]
     },
     "execution_count": 34,
     "metadata": {},
     "output_type": "execute_result"
    }
   ],
   "source": [
    "len(X_valid)"
   ]
  },
  {
   "cell_type": "code",
   "execution_count": 35,
   "metadata": {},
   "outputs": [],
   "source": [
    "target_folder_path = f\"sample_dump_package/dedup/{data_fname_stem_nodedup}\"\n",
    "target_dir = f\"{vars.PROCESSED_DATA_DIR}/{target_folder_path}\"\n",
    "target_dir_train = f\"{target_dir}/train\"\n",
    "target_dir_valid = f\"{target_dir}/valid\"\n",
    "\n",
    "os.makedirs(target_dir, exist_ok=True)\n",
    "os.makedirs(target_dir_train, exist_ok=True)\n",
    "os.makedirs(target_dir_valid, exist_ok=True)\n",
    "\n",
    "io.dump_jsonlines(X_train, f\"{target_dir_train}/raw.jsonl\")\n",
    "io.dump_jsonlines(X_valid, f\"{target_dir_valid}/raw.jsonl\")"
   ]
  },
  {
   "cell_type": "code",
   "execution_count": null,
   "metadata": {},
   "outputs": [],
   "source": []
  }
 ],
 "metadata": {
  "kernelspec": {
   "display_name": "astro",
   "language": "python",
   "name": "python3"
  },
  "language_info": {
   "codemirror_mode": {
    "name": "ipython",
    "version": 3
   },
   "file_extension": ".py",
   "mimetype": "text/x-python",
   "name": "python",
   "nbconvert_exporter": "python",
   "pygments_lexer": "ipython3",
   "version": "3.11.9"
  }
 },
 "nbformat": 4,
 "nbformat_minor": 2
}
